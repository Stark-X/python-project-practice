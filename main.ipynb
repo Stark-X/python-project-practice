{
 "cells": [
  {
   "metadata": {},
   "cell_type": "markdown",
   "source": "## iterator vs list",
   "id": "e11342d7334c65a6"
  },
  {
   "metadata": {
    "collapsed": true
   },
   "cell_type": "code",
   "source": [
    "from sys import getsizeof\n",
    "from typing import Iterator\n",
    "\n",
    "from pyleak import no_task_leaks, no_event_loop_blocking, no_thread_leaks\n",
    "from pyleak.base import LeakAction\n",
    "\n",
    "foo: Iterator[int] = iter(range(1_000_000))\n",
    "bar: list[int] = list(foo)\n",
    "\n",
    "print(\"iterator:\", getsizeof(foo), \"bytes\")\n",
    "print(\"list:\", getsizeof(bar), \"bytes\")\n"
   ],
   "id": "initial_id",
   "outputs": [],
   "execution_count": null
  },
  {
   "metadata": {},
   "cell_type": "markdown",
   "source": [
    "## httpx.AsyncClient reuse\n",
    "\n",
    "benchmark the cases between \"new client in each iter\" and \"one client for all iter\""
   ],
   "id": "c4747a841d844f94"
  },
  {
   "metadata": {
    "ExecuteTime": {
     "end_time": "2025-07-05T10:11:15.075101Z",
     "start_time": "2025-07-05T10:11:04.605254Z"
    }
   },
   "cell_type": "code",
   "source": [
    "from httpx import AsyncClient\n",
    "\n",
    "import time\n",
    "from typing import Callable, Awaitable\n",
    "\n",
    "\n",
    "async def benchmark_async(func: Callable[[], Awaitable], n_iter: int = 5) -> float:\n",
    "    start = time.perf_counter()\n",
    "    for _ in range(n_iter):\n",
    "        await func()\n",
    "    return time.perf_counter() - start\n",
    "\n",
    "\n",
    "async def request_with_new_client():\n",
    "    print(\"1) Creating new client in each request...\")\n",
    "    async with AsyncClient() as client:\n",
    "        await client.get('https://getman.cn/mock/route/to/demo')\n",
    "\n",
    "\n",
    "async def request_with_reused_client(client: AsyncClient):\n",
    "    print(\"2) Reusing client...\")\n",
    "    await client.get('https://getman.cn/mock/route/to/demo')\n",
    "\n",
    "\n",
    "async def run_benchmarks():\n",
    "    # New client per request\n",
    "    new_client_time = await benchmark_async(request_with_new_client)\n",
    "\n",
    "    # Reused client\n",
    "    async with AsyncClient() as client:\n",
    "        reused_client_time = await benchmark_async(\n",
    "            lambda: request_with_reused_client(client)\n",
    "        )\n",
    "\n",
    "    print(f\"New client per request: {new_client_time:.3f}s\")\n",
    "    print(f\"Reused client: {reused_client_time:.3f}s\")\n",
    "    print(f\"Performance difference: {(new_client_time / reused_client_time - 1) * 100:.1f}%\")\n",
    "\n",
    "\n",
    "await run_benchmarks()\n"
   ],
   "id": "77a66b57936ebb4b",
   "outputs": [
    {
     "name": "stdout",
     "output_type": "stream",
     "text": [
      "1) Creating new client in each request...\n",
      "1) Creating new client in each request...\n",
      "1) Creating new client in each request...\n",
      "1) Creating new client in each request...\n",
      "1) Creating new client in each request...\n",
      "2) Reusing client...\n",
      "2) Reusing client...\n",
      "2) Reusing client...\n",
      "2) Reusing client...\n",
      "2) Reusing client...\n",
      "New client per request: 6.511s\n",
      "Reused client: 3.941s\n",
      "Performance difference: 65.2%\n"
     ]
    }
   ],
   "execution_count": 26
  },
  {
   "metadata": {},
   "cell_type": "markdown",
   "source": [
    "## dataclass / pydantic instead of dict\n",
    "\n",
    "### performance comparison\n",
    "\n",
    "- 100万次创建对比\n",
    "- 100万次访问属性对比\n"
   ],
   "id": "d6a0bab792b2c503"
  },
  {
   "metadata": {
    "ExecuteTime": {
     "end_time": "2025-07-05T10:16:25.137663Z",
     "start_time": "2025-07-05T10:16:24.227703Z"
    }
   },
   "cell_type": "code",
   "source": [
    "from dataclasses import dataclass\n",
    "from typing import Dict\n",
    "import timeit\n",
    "import random\n",
    "\n",
    "\n",
    "# Define test structures\n",
    "@dataclass\n",
    "class Person:\n",
    "    name: str\n",
    "    age: int\n",
    "    city: str\n",
    "\n",
    "\n",
    "def create_dict() -> Dict:\n",
    "    return {\n",
    "        \"name\": \"John\",\n",
    "        \"age\": random.randint(20, 80),\n",
    "        \"city\": \"New York\"\n",
    "    }\n",
    "\n",
    "\n",
    "def create_dataclass() -> Person:\n",
    "    return Person(\n",
    "        name=\"John\",\n",
    "        age=random.randint(20, 80),\n",
    "        city=\"New York\"\n",
    "    )\n",
    "\n",
    "\n",
    "# Benchmark creation\n",
    "dict_creation = timeit.timeit(\n",
    "    'create_dict()',\n",
    "    globals=globals(),\n",
    "    number=1_000_000\n",
    ")\n",
    "\n",
    "dataclass_creation = timeit.timeit(\n",
    "    'create_dataclass()',\n",
    "    globals=globals(),\n",
    "    number=1_000_000\n",
    ")\n",
    "\n",
    "print(f\"Dict creation: {dict_creation:.3f}s\")\n",
    "print(f\"Dataclass creation: {dataclass_creation:.3f}s\")\n",
    "print(f\"Performance difference: {(dataclass_creation / dict_creation - 1) * 100:.1f}%\")\n",
    "\n",
    "# Benchmark attribute access\n",
    "d = create_dict()\n",
    "dc = create_dataclass()\n",
    "\n",
    "dict_access = timeit.timeit(\n",
    "    'd[\"name\"]',\n",
    "    globals=globals(),\n",
    "    number=1_000_000\n",
    ")\n",
    "\n",
    "dataclass_access = timeit.timeit(\n",
    "    'dc.name',\n",
    "    globals=globals(),\n",
    "    number=1_000_000\n",
    ")\n",
    "\n",
    "print(f\"\\nDict attribute access: {dict_access:.3f}s\")\n",
    "print(f\"Dataclass attribute access: {dataclass_access:.3f}s\")\n",
    "print(f\"Performance difference: {(dataclass_access / dict_access - 1) * 100:.1f}%\")\n"
   ],
   "id": "3e36c4c2b7629b5c",
   "outputs": [
    {
     "name": "stdout",
     "output_type": "stream",
     "text": [
      "Dict creation: 0.343s\n",
      "Dataclass creation: 0.539s\n",
      "Performance difference: 57.2%\n",
      "\n",
      "Dict attribute access: 0.016s\n",
      "Dataclass attribute access: 0.008s\n",
      "Performance difference: -47.8%\n"
     ]
    }
   ],
   "execution_count": 27
  },
  {
   "metadata": {},
   "cell_type": "markdown",
   "source": [
    "### 可维护性对比\n",
    "\n",
    "``` python\n",
    "person = {\n",
    "    \"name\": \"John\",\n",
    "    \"age\": 30\n",
    "}\n",
    "\n",
    "# 输入的数据缺失时，会有可能的 KeyError\n",
    "def get_styled_name(name: str) -> str:\n",
    "    return name.title()\n",
    "# 一次性函数\n",
    "get_styled_name(person[\"name\"]) # possible error: KeyError: 'name'\n",
    "\n",
    "\n",
    "@dataclass\n",
    "class Person:\n",
    "    name: str\n",
    "    age: int\n",
    "\n",
    "    @property\n",
    "    def styled_name(self) -> str:\n",
    "        return self.name.title()\n",
    "\n",
    "# 输入的数据缺失时，会有明确的错误提示\n",
    "person = Person(\"John\", 30)\n",
    "# 内联的 property 避免了游离的函数\n",
    "person.styled_name  # no error\n",
    "```\n",
    "\n",
    "### 结论\n",
    "\n",
    "- dict 在创建方面表现更好，属性访问方面 dataclass 表现更好\n",
    "- dataclass 相比 dict 能提高代码的可读性和可维护性\n"
   ],
   "id": "aa5f014a81b115a7"
  },
  {
   "metadata": {},
   "cell_type": "markdown",
   "source": [
    "## 异常捕获\n",
    "\n",
    "### 避免捕获异常基类 `Exception`\n"
   ],
   "id": "dd5ee852ef3f475a"
  },
  {
   "metadata": {
    "ExecuteTime": {
     "end_time": "2025-07-05T11:43:16.007453Z",
     "start_time": "2025-07-05T11:43:16.004268Z"
    }
   },
   "cell_type": "code",
   "source": [
    "# 错误示范 - 捕获所有异常\n",
    "try:\n",
    "    value = int(\"abc\")  # 可能抛出ValueError\n",
    "    value2 = 1 / 0  # 可能抛出ZeroDivisionError\n",
    "except Exception as e:\n",
    "    # 问题: 所有错误都用相同方式处理，无法区分是类型转换错误还是除零错误\n",
    "    print(f\"发生错误: {e}\")\n",
    "\n",
    "# 正确示范 - 捕获具体异常类型\n",
    "try:\n",
    "    value = int(\"abc\")  # 可能抛出ValueError\n",
    "    value2 = 1 / 0  # 可能抛出ZeroDivisionError\n",
    "except ValueError as e:\n",
    "    # 针对性处理类型转换错误\n",
    "    print(f\"无法将字符串转换为整数: {e}\")\n",
    "except ZeroDivisionError as e:\n",
    "    # 针对性处理除零错误\n",
    "    print(f\"不能除以零: {e}\")\n"
   ],
   "id": "b70fb32036ac3556",
   "outputs": [
    {
     "name": "stdout",
     "output_type": "stream",
     "text": [
      "发生错误: invalid literal for int() with base 10: 'abc'\n",
      "无法将字符串转换为整数: invalid literal for int() with base 10: 'abc'\n"
     ]
    }
   ],
   "execution_count": 29
  },
  {
   "metadata": {},
   "cell_type": "markdown",
   "source": [
    "### 打印错误堆栈\n",
    "\n",
    "下面用一个嵌套函数的示例来展示缺少堆栈信息的问题"
   ],
   "id": "2688ca90d4f4bcf8"
  },
  {
   "metadata": {
    "ExecuteTime": {
     "end_time": "2025-07-06T08:57:25.216846Z",
     "start_time": "2025-07-06T08:57:25.213196Z"
    }
   },
   "cell_type": "code",
   "source": [
    "import logging\n",
    "\n",
    "\n",
    "def process_data(data):\n",
    "    try:\n",
    "        result = complex_calculation(data)\n",
    "        return result\n",
    "    except Exception as e:\n",
    "        # 不好的做法 - 只打印错误信息\n",
    "        logging.error(f\"Error: {e}\")\n",
    "\n",
    "\n",
    "def complex_calculation(data):\n",
    "    # 假设这里有复杂的计算逻辑\n",
    "    intermediate = data / 0  # 这里会触发除零错误\n",
    "    return intermediate * 2\n",
    "\n",
    "\n",
    "def main():\n",
    "    # 测试函数\n",
    "    result = process_data(10)\n",
    "    logging.info(\"Final result: %s\", result)\n",
    "\n",
    "\n",
    "main()"
   ],
   "id": "c2fc8ba9645260ff",
   "outputs": [
    {
     "name": "stderr",
     "output_type": "stream",
     "text": [
      "ERROR:root:Error: division by zero\n"
     ]
    }
   ],
   "execution_count": 1
  },
  {
   "metadata": {},
   "cell_type": "markdown",
   "source": [
    "这种输出存在以下问题:\n",
    "\n",
    "1. 无法知道错误发生在哪个函数中\n",
    "2. 无法知道错误发生在代码的哪一行\n",
    "3. 无法追踪错误的调用链路"
   ],
   "id": "29b92540d29450a"
  },
  {
   "metadata": {
    "ExecuteTime": {
     "end_time": "2025-07-06T08:59:28.427884Z",
     "start_time": "2025-07-06T08:59:28.425040Z"
    }
   },
   "cell_type": "code",
   "source": [
    "def process_data_with_traceback(data):\n",
    "    try:\n",
    "        return complex_calculation(data)\n",
    "    except Exception as e:\n",
    "        # 好的做法 - 打印完整堆栈信息\n",
    "        logging.error(\"Error occurred\", exc_info=True)\n",
    "        # logging.exception(\"Error occurred\")\n",
    "        return None\n",
    "\n",
    "\n",
    "def complex_calculation(data):\n",
    "    intermediate = data / 0\n",
    "    return intermediate * 2\n",
    "\n",
    "\n",
    "def main():\n",
    "    result = process_data_with_traceback(10)\n",
    "    logging.info(\"Final result:\", result)\n",
    "\n",
    "\n",
    "main()"
   ],
   "id": "b69254cc3410c8cc",
   "outputs": [
    {
     "name": "stderr",
     "output_type": "stream",
     "text": [
      "ERROR:root:Error occurred:\n",
      "Traceback (most recent call last):\n",
      "  File \"/var/folders/7_/rgm00tbj3cg9662659fmrjmm0000gn/T/ipykernel_12911/2468367612.py\", line 3, in process_data_with_traceback\n",
      "    return complex_calculation(data)\n",
      "           ^^^^^^^^^^^^^^^^^^^^^^^^^\n",
      "  File \"/var/folders/7_/rgm00tbj3cg9662659fmrjmm0000gn/T/ipykernel_12911/2468367612.py\", line 12, in complex_calculation\n",
      "    intermediate = data / 0\n",
      "                   ~~~~~^~~\n",
      "ZeroDivisionError: division by zero\n"
     ]
    }
   ],
   "execution_count": 3
  },
  {
   "metadata": {},
   "cell_type": "markdown",
   "source": [
    "\n",
    "通过堆栈信息, 我们可以:\n",
    "1. 立即定位到错误发生在 complex_calculation 函数的第11行\n",
    "2. 了解到错误类型是 ZeroDivisionError\n",
    "3. 清楚地看到函数调用链: main -> process_data_with_traceback -> complex_calculation"
   ],
   "id": "739202a743553902"
  },
  {
   "metadata": {},
   "cell_type": "markdown",
   "source": "## 异步代码中的同步代码",
   "id": "2f570b373cb53873"
  },
  {
   "metadata": {
    "ExecuteTime": {
     "end_time": "2025-07-06T10:13:13.480341Z",
     "start_time": "2025-07-06T10:13:07.444173Z"
    }
   },
   "cell_type": "code",
   "source": [
    "import asyncio\n",
    "import time\n",
    "\n",
    "\n",
    "async def sync_block():\n",
    "    print(\"sync block started...\")\n",
    "    time.sleep(1)\n",
    "    print(\"sync block finished.\")\n",
    "\n",
    "\n",
    "async def async_block():\n",
    "    print(\"async block started...\")\n",
    "    await asyncio.sleep(1)\n",
    "    print(\"async block finished.\")\n",
    "\n",
    "\n",
    "async def run_blocks():\n",
    "    start_time = time.time()\n",
    "    print(\">>> Running sync blocks, started\")\n",
    "    tasks = (sync_block() for _ in range(5))\n",
    "    await asyncio.gather(*tasks)\n",
    "    print(\"Running sync blocks, finished, elapsed: %s\" % (time.time() - start_time))\n",
    "\n",
    "    print(\">>> Running async blocks, started\")\n",
    "    start_time = time.time()\n",
    "    tasks = (async_block() for _ in range(5))\n",
    "    await asyncio.gather(*tasks)\n",
    "    print(\"Running async blocks, finished, elapsed: %s\" % (time.time() - start_time))\n",
    "\n",
    "\n",
    "await run_blocks()\n"
   ],
   "id": "26e9d2e7fcc6698b",
   "outputs": [
    {
     "name": "stdout",
     "output_type": "stream",
     "text": [
      ">>> Running sync blocks, started\n",
      "sync block started...\n",
      "sync block finished.\n",
      "sync block started...\n",
      "sync block finished.\n",
      "sync block started...\n",
      "sync block finished.\n",
      "sync block started...\n",
      "sync block finished.\n",
      "sync block started...\n",
      "sync block finished.\n",
      "Running sync blocks, finished, elapsed: 5.0270562171936035\n",
      ">>> Running async blocks, started\n",
      "async block started...\n",
      "async block started...\n",
      "async block started...\n",
      "async block started...\n",
      "async block started...\n",
      "async block finished.\n",
      "async block finished.\n",
      "async block finished.\n",
      "async block finished.\n",
      "async block finished.\n",
      "Running async blocks, finished, elapsed: 1.0031070709228516\n"
     ]
    }
   ],
   "execution_count": 40
  },
  {
   "metadata": {},
   "cell_type": "markdown",
   "source": [
    "### 使用 pyleak 检测\n",
    "\n",
    "- `uv add pyleak`\n",
    "- 配合使用 [pytest](https://github.com/deepankarm/pyleak?tab=readme-ov-file#add-the-plugin-to-your-pytest-configuration)\n",
    "\n",
    "@pyleak_check.py && @test_leak.py\n",
    "\n",
    "### 修复问题：使用线程执行同步函数\n",
    "\n",
    "- 对于普通 python app，使用 `asyncio.to_thread` 或者 `loop.run_in_executor` 能让 sync函数在线程（池）中执行\n",
    "- 对于 fastapi app\n",
    "    - 在 api 层的函数定义直接使用 `def` 而不是 `async def`，fastapi 内部会自动转换\n",
    "    - 自行封装线程池执行器 `concurrent.futures.ThreadPoolExecutor` + `loop.run_in_executor`\n",
    "    - 使用 `starlette.concurrency.run_in_threadpool`\n",
    "\n"
   ],
   "id": "730920ec1bdce1f7"
  },
  {
   "metadata": {
    "ExecuteTime": {
     "end_time": "2025-07-06T10:52:23.632786Z",
     "start_time": "2025-07-06T10:52:21.621019Z"
    }
   },
   "cell_type": "code",
   "source": [
    "def sync_block():  # !! remove the `async` keyword\n",
    "    print(\"sync block started...\")\n",
    "    time.sleep(1)\n",
    "    print(\"sync block finished.\")\n",
    "\n",
    "\n",
    "async def run_with_wrapped_sync_block():\n",
    "    start_time = time.time()\n",
    "    print(\">>> Running sync blocks, started\")\n",
    "    tasks = (asyncio.to_thread(sync_block) for _ in range(5))  # !! wrap the sync block in a separate thread\n",
    "    await asyncio.gather(*tasks)\n",
    "    print(\"Running sync blocks, finished, elapsed: %s\" % (time.time() - start_time))\n",
    "\n",
    "    print(\">>> Running async blocks, started\")\n",
    "    start_time = time.time()\n",
    "    tasks = (async_block() for _ in range(5))\n",
    "    await asyncio.gather(*tasks)\n",
    "    print(\"Running async blocks, finished, elapsed: %s\" % (time.time() - start_time))\n",
    "\n",
    "\n",
    "await run_with_wrapped_sync_block()"
   ],
   "id": "107605ab3c6e9ae4",
   "outputs": [
    {
     "name": "stdout",
     "output_type": "stream",
     "text": [
      ">>> Running sync blocks, started\n",
      "sync block started...\n",
      "sync block started...\n",
      "sync block started...\n",
      "sync block started...\n",
      "sync block started...\n",
      "sync block finished.sync block finished.\n",
      "sync block finished.\n",
      "sync block finished.\n",
      "\n",
      "sync block finished.\n",
      "Running sync blocks, finished, elapsed: 1.0074050426483154\n",
      ">>> Running async blocks, started\n",
      "async block started...\n",
      "async block started...\n",
      "async block started...\n",
      "async block started...\n",
      "async block started...\n",
      "async block finished.\n",
      "async block finished.\n",
      "async block finished.\n",
      "async block finished.\n",
      "async block finished.\n",
      "Running async blocks, finished, elapsed: 1.0015690326690674\n"
     ]
    }
   ],
   "execution_count": 52
  },
  {
   "metadata": {},
   "cell_type": "markdown",
   "source": [
    "## logging\n",
    "\n",
    "### 使用 `logging.getLogger` 而不是直接使用 `logging`\n",
    "\n",
    "直接使用 `logging` 相当于使用了 `logging.getLogger('root')` （根 logger），无法通过配置控制行为（输出路径、格式等）。\n",
    "\n",
    "应当使用 `logging.getLogger` 获取一个 logger，然后通过 logger 进行操作。\n",
    "\n",
    "``` python\n",
    "import logging\n",
    "\n",
    "# 错误示范 - 直接使用 logging\n",
    "logging.basicConfig(level=logging.DEBUG)\n",
    "logging.debug(\"This is a debug message\")\n",
    "\n",
    "# 正确示范 - 使用 logging.getLogger\n",
    "logger = logging.getLogger(__name__)\n",
    "logger.setLevel(logging.DEBUG)\n",
    "logger.debug(\"This is a debug message\")\n",
    "```\n",
    "\n",
    "### 减少冗余日志\n",
    "\n",
    "- 根据情况打印必要的日志，而不是全部打印。\n",
    "- 使用不同的日志等级，只是 debug 用的，用 debug 等级输出，在正式环境，把全局的 log level 设置为更高的级别，避免日志过多。\n",
    "- 在函数或方法中，使用 `logger.info` 代替 `print` 输出信息\n",
    "    1. 级别控制 - 可以根据环境动态控制日志输出\n",
    "    2. 多目标输出 - 可以同时输出到文件、控制台、网络等\n",
    "    3. 结构化格式 - 提供时间戳、模块名、行号等上下文信息\n",
    "    4. 生产环境友好 - 便于运维监控和问题排查\n",
    "    5. 更好的错误处理 - 支持堆栈跟踪和异常信息记录\n",
    "    6. 模块化管理 - 不同模块可以有独立的日志配置\n",
    "    7. 性能优化 - 支持延迟求值，避免不必要的字符串操作\n",
    "\n",
    "### 日志实在太多，本地开发时怎么只看自己关注的部分？\n",
    "\n",
    "- 注释相关代码\n",
    "- 使用 logger 的配置，如 `logger.disabled = True` 等方式关闭日志输出\n",
    "- 使用 [zestyping/q](https://github.com/zestyping/q) 或者 [gruns/icecream](https://github.com/gruns/icecream)\n",
    "\n",
    "使用 q 打印日志："
   ],
   "id": "81a68a54c39b88d"
  },
  {
   "metadata": {
    "ExecuteTime": {
     "end_time": "2025-07-06T15:44:07.406860Z",
     "start_time": "2025-07-06T15:44:07.400422Z"
    }
   },
   "cell_type": "code",
   "source": [
    "# macos / linux: tail -f $TMPDIR/q\n",
    "# windows: Get-Content %userprofile%\\tmp\\q -Wait -Tail 30\n",
    "def so_many_logs():\n",
    "    logger.warning(\"This is a log message\")\n",
    "    logger.warning(\"This is a log message\")\n",
    "\n",
    "    __import__('q').q(\"look at this\")\n",
    "    some_number = 123\n",
    "    __import__('q').q(some_number)\n",
    "\n",
    "    logging.warning(\"This is a log message\")\n",
    "    logging.warning(\"This is a log message\")\n",
    "\n",
    "\n",
    "so_many_logs()"
   ],
   "id": "5896a815e58486b8",
   "outputs": [
    {
     "name": "stderr",
     "output_type": "stream",
     "text": [
      "WARNING:__main__:This is a log message\n",
      "WARNING:__main__:This is a log message\n",
      "WARNING:root:This is a log message\n",
      "WARNING:root:This is a log message\n"
     ]
    }
   ],
   "execution_count": 63
  },
  {
   "metadata": {},
   "cell_type": "code",
   "outputs": [],
   "execution_count": null,
   "source": "",
   "id": "20b16cc7a91eb520"
  }
 ],
 "metadata": {
  "kernelspec": {
   "display_name": "Python 3",
   "language": "python",
   "name": "python3"
  },
  "language_info": {
   "codemirror_mode": {
    "name": "ipython",
    "version": 2
   },
   "file_extension": ".py",
   "mimetype": "text/x-python",
   "name": "python",
   "nbconvert_exporter": "python",
   "pygments_lexer": "ipython2",
   "version": "2.7.6"
  }
 },
 "nbformat": 4,
 "nbformat_minor": 5
}
